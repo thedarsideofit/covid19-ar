{
  "nbformat": 4,
  "nbformat_minor": 0,
  "metadata": {
    "colab": {
      "name": "COVID19-AR.ipynb",
      "provenance": [],
      "collapsed_sections": [],
      "toc_visible": true,
      "mount_file_id": "1anKHwVgCgvrmQaJuXgODGG7cDl2VxcKF",
      "authorship_tag": "ABX9TyN6UlCs40t0DphMPLoO4Ud8",
      "include_colab_link": true
    },
    "kernelspec": {
      "name": "python3",
      "display_name": "Python 3"
    }
  },
  "cells": [
    {
      "cell_type": "markdown",
      "metadata": {
        "id": "view-in-github",
        "colab_type": "text"
      },
      "source": [
        "<a href=\"https://colab.research.google.com/github/thedarsideofit/covid19-ar/blob/master/COVID19_AR.ipynb\" target=\"_parent\"><img src=\"https://colab.research.google.com/assets/colab-badge.svg\" alt=\"Open In Colab\"/></a>"
      ]
    },
    {
      "cell_type": "markdown",
      "metadata": {
        "id": "zUiboIkovlVK",
        "colab_type": "text"
      },
      "source": [
        "# See the Original  Source >> Towards DataScience - Gianluca Malato\n",
        "  [Covid-19 infection in Italy. Mathematical models and predictions](https://towardsdatascience.com/covid-19-infection-in-italy-mathematical-models-and-predictions-7784b4d7dd8d)\n",
        "\n",
        " and the great adaptation from Enrico Ros [adaptation from Enrico Ros](https://colab.research.google.com/drive/16CzLtNCnYq8x3gEBOgg2pMmDQngSD2vG )"
      ]
    },
    {
      "cell_type": "code",
      "metadata": {
        "id": "bVL-PzoEvfpe",
        "colab_type": "code",
        "colab": {}
      },
      "source": [
        "import pandas as pd\n",
        "import numpy as np\n",
        "from datetime import datetime,timedelta\n",
        "from sklearn.metrics import mean_squared_error\n",
        "from scipy.optimize import curve_fit\n",
        "from scipy.optimize import fsolve\n",
        "import matplotlib.pyplot as plt\n",
        "from IPython.display import HTML as html_print\n",
        "%matplotlib inline"
      ],
      "execution_count": 0,
      "outputs": []
    },
    {
      "cell_type": "markdown",
      "metadata": {
        "id": "pp_TkLE-gQxB",
        "colab_type": "text"
      },
      "source": [
        "Dataset created from Wikipedia\n",
        "[Pandemia de enfermedad por coronavirus de 2020 en Argentina](https://es.wikipedia.org/wiki/Pandemia_de_enfermedad_por_coronavirus_de_2020_en_Argentina)\n",
        "\n",
        "\n",
        "Officially reported in daily morning report from 2020-03-24 \n",
        "\n",
        "[Daily Report Coronavirus Argentina - Gov. Health](https://www.argentina.gob.ar/coronavirus/informe-diario)\n",
        "\n",
        "We use this data to cover the negative tests from this tweet\n",
        "[@Sancho_SA - 2020-03-28](https://twitter.com/Sancho_SA/status/1243875517838868480)"
      ]
    },
    {
      "cell_type": "code",
      "metadata": {
        "id": "B57UGKdVytJv",
        "colab_type": "code",
        "outputId": "51773d18-d6ea-4217-d0f2-8b6edf09c6d3",
        "colab": {
          "base_uri": "https://localhost:8080/",
          "height": 1000
        }
      },
      "source": [
        "url = \"https://raw.githubusercontent.com/thedarsideofit/covid19-ar/master/covid19-ar.csv\"\n",
        "df = pd.read_csv(url)\n",
        "df"
      ],
      "execution_count": 15,
      "outputs": [
        {
          "output_type": "execute_result",
          "data": {
            "text/html": [
              "<div>\n",
              "<style scoped>\n",
              "    .dataframe tbody tr th:only-of-type {\n",
              "        vertical-align: middle;\n",
              "    }\n",
              "\n",
              "    .dataframe tbody tr th {\n",
              "        vertical-align: top;\n",
              "    }\n",
              "\n",
              "    .dataframe thead th {\n",
              "        text-align: right;\n",
              "    }\n",
              "</style>\n",
              "<table border=\"1\" class=\"dataframe\">\n",
              "  <thead>\n",
              "    <tr style=\"text-align: right;\">\n",
              "      <th></th>\n",
              "      <th>day</th>\n",
              "      <th>country</th>\n",
              "      <th>recovery</th>\n",
              "      <th>new_cases</th>\n",
              "      <th>deaths</th>\n",
              "      <th>cases</th>\n",
              "      <th>total_negative_tests</th>\n",
              "    </tr>\n",
              "  </thead>\n",
              "  <tbody>\n",
              "    <tr>\n",
              "      <th>0</th>\n",
              "      <td>3/3/20</td>\n",
              "      <td>AR</td>\n",
              "      <td>0.0</td>\n",
              "      <td>1</td>\n",
              "      <td>0</td>\n",
              "      <td>1</td>\n",
              "      <td>NaN</td>\n",
              "    </tr>\n",
              "    <tr>\n",
              "      <th>1</th>\n",
              "      <td>3/4/20</td>\n",
              "      <td>AR</td>\n",
              "      <td>0.0</td>\n",
              "      <td>0</td>\n",
              "      <td>0</td>\n",
              "      <td>1</td>\n",
              "      <td>NaN</td>\n",
              "    </tr>\n",
              "    <tr>\n",
              "      <th>2</th>\n",
              "      <td>3/5/20</td>\n",
              "      <td>AR</td>\n",
              "      <td>0.0</td>\n",
              "      <td>1</td>\n",
              "      <td>0</td>\n",
              "      <td>2</td>\n",
              "      <td>NaN</td>\n",
              "    </tr>\n",
              "    <tr>\n",
              "      <th>3</th>\n",
              "      <td>3/6/20</td>\n",
              "      <td>AR</td>\n",
              "      <td>0.0</td>\n",
              "      <td>6</td>\n",
              "      <td>0</td>\n",
              "      <td>8</td>\n",
              "      <td>NaN</td>\n",
              "    </tr>\n",
              "    <tr>\n",
              "      <th>4</th>\n",
              "      <td>3/7/20</td>\n",
              "      <td>AR</td>\n",
              "      <td>0.0</td>\n",
              "      <td>1</td>\n",
              "      <td>1</td>\n",
              "      <td>9</td>\n",
              "      <td>NaN</td>\n",
              "    </tr>\n",
              "    <tr>\n",
              "      <th>5</th>\n",
              "      <td>3/8/20</td>\n",
              "      <td>AR</td>\n",
              "      <td>0.0</td>\n",
              "      <td>3</td>\n",
              "      <td>0</td>\n",
              "      <td>12</td>\n",
              "      <td>NaN</td>\n",
              "    </tr>\n",
              "    <tr>\n",
              "      <th>6</th>\n",
              "      <td>3/9/20</td>\n",
              "      <td>AR</td>\n",
              "      <td>0.0</td>\n",
              "      <td>5</td>\n",
              "      <td>0</td>\n",
              "      <td>17</td>\n",
              "      <td>NaN</td>\n",
              "    </tr>\n",
              "    <tr>\n",
              "      <th>7</th>\n",
              "      <td>3/10/20</td>\n",
              "      <td>AR</td>\n",
              "      <td>0.0</td>\n",
              "      <td>2</td>\n",
              "      <td>0</td>\n",
              "      <td>19</td>\n",
              "      <td>NaN</td>\n",
              "    </tr>\n",
              "    <tr>\n",
              "      <th>8</th>\n",
              "      <td>3/11/20</td>\n",
              "      <td>AR</td>\n",
              "      <td>0.0</td>\n",
              "      <td>2</td>\n",
              "      <td>0</td>\n",
              "      <td>21</td>\n",
              "      <td>NaN</td>\n",
              "    </tr>\n",
              "    <tr>\n",
              "      <th>9</th>\n",
              "      <td>3/12/20</td>\n",
              "      <td>AR</td>\n",
              "      <td>1.0</td>\n",
              "      <td>10</td>\n",
              "      <td>0</td>\n",
              "      <td>31</td>\n",
              "      <td>NaN</td>\n",
              "    </tr>\n",
              "    <tr>\n",
              "      <th>10</th>\n",
              "      <td>3/13/20</td>\n",
              "      <td>AR</td>\n",
              "      <td>4.0</td>\n",
              "      <td>3</td>\n",
              "      <td>2</td>\n",
              "      <td>34</td>\n",
              "      <td>NaN</td>\n",
              "    </tr>\n",
              "    <tr>\n",
              "      <th>11</th>\n",
              "      <td>3/14/20</td>\n",
              "      <td>AR</td>\n",
              "      <td>5.0</td>\n",
              "      <td>11</td>\n",
              "      <td>0</td>\n",
              "      <td>45</td>\n",
              "      <td>NaN</td>\n",
              "    </tr>\n",
              "    <tr>\n",
              "      <th>12</th>\n",
              "      <td>3/15/20</td>\n",
              "      <td>AR</td>\n",
              "      <td>0.0</td>\n",
              "      <td>11</td>\n",
              "      <td>0</td>\n",
              "      <td>56</td>\n",
              "      <td>NaN</td>\n",
              "    </tr>\n",
              "    <tr>\n",
              "      <th>13</th>\n",
              "      <td>3/16/20</td>\n",
              "      <td>AR</td>\n",
              "      <td>12.0</td>\n",
              "      <td>9</td>\n",
              "      <td>0</td>\n",
              "      <td>65</td>\n",
              "      <td>464.0</td>\n",
              "    </tr>\n",
              "    <tr>\n",
              "      <th>14</th>\n",
              "      <td>3/17/20</td>\n",
              "      <td>AR</td>\n",
              "      <td>0.0</td>\n",
              "      <td>13</td>\n",
              "      <td>0</td>\n",
              "      <td>78</td>\n",
              "      <td>496.0</td>\n",
              "    </tr>\n",
              "    <tr>\n",
              "      <th>15</th>\n",
              "      <td>3/18/20</td>\n",
              "      <td>AR</td>\n",
              "      <td>16.0</td>\n",
              "      <td>19</td>\n",
              "      <td>3</td>\n",
              "      <td>97</td>\n",
              "      <td>562.0</td>\n",
              "    </tr>\n",
              "    <tr>\n",
              "      <th>16</th>\n",
              "      <td>3/19/20</td>\n",
              "      <td>AR</td>\n",
              "      <td>22.0</td>\n",
              "      <td>31</td>\n",
              "      <td>0</td>\n",
              "      <td>128</td>\n",
              "      <td>705.0</td>\n",
              "    </tr>\n",
              "    <tr>\n",
              "      <th>17</th>\n",
              "      <td>3/20/20</td>\n",
              "      <td>AR</td>\n",
              "      <td>27.0</td>\n",
              "      <td>30</td>\n",
              "      <td>0</td>\n",
              "      <td>158</td>\n",
              "      <td>872.0</td>\n",
              "    </tr>\n",
              "    <tr>\n",
              "      <th>18</th>\n",
              "      <td>3/21/20</td>\n",
              "      <td>AR</td>\n",
              "      <td>28.0</td>\n",
              "      <td>67</td>\n",
              "      <td>4</td>\n",
              "      <td>225</td>\n",
              "      <td>1028.0</td>\n",
              "    </tr>\n",
              "    <tr>\n",
              "      <th>19</th>\n",
              "      <td>3/22/20</td>\n",
              "      <td>AR</td>\n",
              "      <td>39.0</td>\n",
              "      <td>41</td>\n",
              "      <td>0</td>\n",
              "      <td>266</td>\n",
              "      <td>1271.0</td>\n",
              "    </tr>\n",
              "    <tr>\n",
              "      <th>20</th>\n",
              "      <td>3/23/20</td>\n",
              "      <td>AR</td>\n",
              "      <td>51.0</td>\n",
              "      <td>36</td>\n",
              "      <td>0</td>\n",
              "      <td>301</td>\n",
              "      <td>1453.0</td>\n",
              "    </tr>\n",
              "    <tr>\n",
              "      <th>21</th>\n",
              "      <td>3/24/20</td>\n",
              "      <td>AR</td>\n",
              "      <td>52.0</td>\n",
              "      <td>86</td>\n",
              "      <td>6</td>\n",
              "      <td>387</td>\n",
              "      <td>1453.0</td>\n",
              "    </tr>\n",
              "    <tr>\n",
              "      <th>22</th>\n",
              "      <td>3/25/20</td>\n",
              "      <td>AR</td>\n",
              "      <td>63.0</td>\n",
              "      <td>117</td>\n",
              "      <td>8</td>\n",
              "      <td>502</td>\n",
              "      <td>1946.0</td>\n",
              "    </tr>\n",
              "    <tr>\n",
              "      <th>23</th>\n",
              "      <td>3/26/20</td>\n",
              "      <td>AR</td>\n",
              "      <td>72.0</td>\n",
              "      <td>87</td>\n",
              "      <td>12</td>\n",
              "      <td>589</td>\n",
              "      <td>2258.0</td>\n",
              "    </tr>\n",
              "    <tr>\n",
              "      <th>24</th>\n",
              "      <td>3/27/20</td>\n",
              "      <td>AR</td>\n",
              "      <td>76.0</td>\n",
              "      <td>101</td>\n",
              "      <td>17</td>\n",
              "      <td>690</td>\n",
              "      <td>2817.0</td>\n",
              "    </tr>\n",
              "    <tr>\n",
              "      <th>25</th>\n",
              "      <td>3/28/20</td>\n",
              "      <td>AR</td>\n",
              "      <td>80.0</td>\n",
              "      <td>55</td>\n",
              "      <td>19</td>\n",
              "      <td>745</td>\n",
              "      <td>NaN</td>\n",
              "    </tr>\n",
              "    <tr>\n",
              "      <th>26</th>\n",
              "      <td>3/29/20</td>\n",
              "      <td>AR</td>\n",
              "      <td>91.0</td>\n",
              "      <td>75</td>\n",
              "      <td>20</td>\n",
              "      <td>820</td>\n",
              "      <td>3215.0</td>\n",
              "    </tr>\n",
              "    <tr>\n",
              "      <th>27</th>\n",
              "      <td>3/30/20</td>\n",
              "      <td>AR</td>\n",
              "      <td>NaN</td>\n",
              "      <td>146</td>\n",
              "      <td>24</td>\n",
              "      <td>966</td>\n",
              "      <td>3877.0</td>\n",
              "    </tr>\n",
              "    <tr>\n",
              "      <th>28</th>\n",
              "      <td>3/31/20</td>\n",
              "      <td>AR</td>\n",
              "      <td>248.0</td>\n",
              "      <td>88</td>\n",
              "      <td>27</td>\n",
              "      <td>1054</td>\n",
              "      <td>4597.0</td>\n",
              "    </tr>\n",
              "    <tr>\n",
              "      <th>29</th>\n",
              "      <td>4/01/20</td>\n",
              "      <td>AR</td>\n",
              "      <td>256.0</td>\n",
              "      <td>79</td>\n",
              "      <td>31</td>\n",
              "      <td>1133</td>\n",
              "      <td>5144.0</td>\n",
              "    </tr>\n",
              "    <tr>\n",
              "      <th>30</th>\n",
              "      <td>4/02/20</td>\n",
              "      <td>AR</td>\n",
              "      <td>266.0</td>\n",
              "      <td>132</td>\n",
              "      <td>36</td>\n",
              "      <td>1265</td>\n",
              "      <td>6120.0</td>\n",
              "    </tr>\n",
              "    <tr>\n",
              "      <th>31</th>\n",
              "      <td>4/03/20</td>\n",
              "      <td>AR</td>\n",
              "      <td>279.0</td>\n",
              "      <td>88</td>\n",
              "      <td>42</td>\n",
              "      <td>1353</td>\n",
              "      <td>7135.0</td>\n",
              "    </tr>\n",
              "    <tr>\n",
              "      <th>32</th>\n",
              "      <td>4/04/20</td>\n",
              "      <td>AR</td>\n",
              "      <td>280.0</td>\n",
              "      <td>98</td>\n",
              "      <td>44</td>\n",
              "      <td>1451</td>\n",
              "      <td>7888.0</td>\n",
              "    </tr>\n",
              "    <tr>\n",
              "      <th>33</th>\n",
              "      <td>4/05/20</td>\n",
              "      <td>AR</td>\n",
              "      <td>325.0</td>\n",
              "      <td>103</td>\n",
              "      <td>48</td>\n",
              "      <td>1554</td>\n",
              "      <td>NaN</td>\n",
              "    </tr>\n",
              "    <tr>\n",
              "      <th>34</th>\n",
              "      <td>4/06/20</td>\n",
              "      <td>AR</td>\n",
              "      <td>338.0</td>\n",
              "      <td>74</td>\n",
              "      <td>54</td>\n",
              "      <td>1628</td>\n",
              "      <td>9165.0</td>\n",
              "    </tr>\n",
              "    <tr>\n",
              "      <th>35</th>\n",
              "      <td>4/07/20</td>\n",
              "      <td>AR</td>\n",
              "      <td>358.0</td>\n",
              "      <td>87</td>\n",
              "      <td>60</td>\n",
              "      <td>1715</td>\n",
              "      <td>10438.0</td>\n",
              "    </tr>\n",
              "    <tr>\n",
              "      <th>36</th>\n",
              "      <td>4/08/20</td>\n",
              "      <td>AR</td>\n",
              "      <td>365.0</td>\n",
              "      <td>80</td>\n",
              "      <td>69</td>\n",
              "      <td>1795</td>\n",
              "      <td>11835.0</td>\n",
              "    </tr>\n",
              "    <tr>\n",
              "      <th>37</th>\n",
              "      <td>4/09/20</td>\n",
              "      <td>AR</td>\n",
              "      <td>375.0</td>\n",
              "      <td>99</td>\n",
              "      <td>79</td>\n",
              "      <td>1894</td>\n",
              "      <td>12983.0</td>\n",
              "    </tr>\n",
              "    <tr>\n",
              "      <th>38</th>\n",
              "      <td>4/10/20</td>\n",
              "      <td>AR</td>\n",
              "      <td>440.0</td>\n",
              "      <td>81</td>\n",
              "      <td>83</td>\n",
              "      <td>1975</td>\n",
              "      <td>14150.0</td>\n",
              "    </tr>\n",
              "    <tr>\n",
              "      <th>39</th>\n",
              "      <td>4/11/20</td>\n",
              "      <td>AR</td>\n",
              "      <td>468.0</td>\n",
              "      <td>167</td>\n",
              "      <td>90</td>\n",
              "      <td>2142</td>\n",
              "      <td>15480.0</td>\n",
              "    </tr>\n",
              "    <tr>\n",
              "      <th>40</th>\n",
              "      <td>4/12/20</td>\n",
              "      <td>AR</td>\n",
              "      <td>515.0</td>\n",
              "      <td>66</td>\n",
              "      <td>95</td>\n",
              "      <td>2208</td>\n",
              "      <td>16416.0</td>\n",
              "    </tr>\n",
              "    <tr>\n",
              "      <th>41</th>\n",
              "      <td>4/13/20</td>\n",
              "      <td>AR</td>\n",
              "      <td>559.0</td>\n",
              "      <td>69</td>\n",
              "      <td>101</td>\n",
              "      <td>2277</td>\n",
              "      <td>17724.0</td>\n",
              "    </tr>\n",
              "    <tr>\n",
              "      <th>42</th>\n",
              "      <td>4/14/20</td>\n",
              "      <td>AR</td>\n",
              "      <td>596.0</td>\n",
              "      <td>166</td>\n",
              "      <td>109</td>\n",
              "      <td>2443</td>\n",
              "      <td>18901.0</td>\n",
              "    </tr>\n",
              "    <tr>\n",
              "      <th>43</th>\n",
              "      <td>4/15/20</td>\n",
              "      <td>AR</td>\n",
              "      <td>631.0</td>\n",
              "      <td>128</td>\n",
              "      <td>115</td>\n",
              "      <td>2571</td>\n",
              "      <td>20645.0</td>\n",
              "    </tr>\n",
              "    <tr>\n",
              "      <th>44</th>\n",
              "      <td>4/16/20</td>\n",
              "      <td>AR</td>\n",
              "      <td>666.0</td>\n",
              "      <td>98</td>\n",
              "      <td>122</td>\n",
              "      <td>2669</td>\n",
              "      <td>22310.0</td>\n",
              "    </tr>\n",
              "    <tr>\n",
              "      <th>45</th>\n",
              "      <td>4/17/20</td>\n",
              "      <td>AR</td>\n",
              "      <td>685.0</td>\n",
              "      <td>88</td>\n",
              "      <td>129</td>\n",
              "      <td>2758</td>\n",
              "      <td>23796.0</td>\n",
              "    </tr>\n",
              "    <tr>\n",
              "      <th>46</th>\n",
              "      <td>4/18/20</td>\n",
              "      <td>AR</td>\n",
              "      <td>709.0</td>\n",
              "      <td>81</td>\n",
              "      <td>132</td>\n",
              "      <td>2839</td>\n",
              "      <td>25259.0</td>\n",
              "    </tr>\n",
              "    <tr>\n",
              "      <th>47</th>\n",
              "      <td>4/19/20</td>\n",
              "      <td>AR</td>\n",
              "      <td>737.0</td>\n",
              "      <td>102</td>\n",
              "      <td>136</td>\n",
              "      <td>2941</td>\n",
              "      <td>26658.0</td>\n",
              "    </tr>\n",
              "    <tr>\n",
              "      <th>48</th>\n",
              "      <td>4/20/20</td>\n",
              "      <td>AR</td>\n",
              "      <td>840.0</td>\n",
              "      <td>90</td>\n",
              "      <td>145</td>\n",
              "      <td>3031</td>\n",
              "      <td>28298.0</td>\n",
              "    </tr>\n",
              "    <tr>\n",
              "      <th>49</th>\n",
              "      <td>4/21/20</td>\n",
              "      <td>AR</td>\n",
              "      <td>872.0</td>\n",
              "      <td>112</td>\n",
              "      <td>152</td>\n",
              "      <td>3144</td>\n",
              "      <td>30362.0</td>\n",
              "    </tr>\n",
              "    <tr>\n",
              "      <th>50</th>\n",
              "      <td>4/22/20</td>\n",
              "      <td>AR</td>\n",
              "      <td>919.0</td>\n",
              "      <td>144</td>\n",
              "      <td>159</td>\n",
              "      <td>3288</td>\n",
              "      <td>32414.0</td>\n",
              "    </tr>\n",
              "    <tr>\n",
              "      <th>51</th>\n",
              "      <td>4/23/20</td>\n",
              "      <td>AR</td>\n",
              "      <td>976.0</td>\n",
              "      <td>147</td>\n",
              "      <td>167</td>\n",
              "      <td>3435</td>\n",
              "      <td>34431.0</td>\n",
              "    </tr>\n",
              "    <tr>\n",
              "      <th>52</th>\n",
              "      <td>4/24/20</td>\n",
              "      <td>AR</td>\n",
              "      <td>1030.0</td>\n",
              "      <td>172</td>\n",
              "      <td>179</td>\n",
              "      <td>3607</td>\n",
              "      <td>36610.0</td>\n",
              "    </tr>\n",
              "    <tr>\n",
              "      <th>53</th>\n",
              "      <td>4/25/20</td>\n",
              "      <td>AR</td>\n",
              "      <td>1107.0</td>\n",
              "      <td>173</td>\n",
              "      <td>187</td>\n",
              "      <td>3780</td>\n",
              "      <td>38215.0</td>\n",
              "    </tr>\n",
              "    <tr>\n",
              "      <th>54</th>\n",
              "      <td>4/26/20</td>\n",
              "      <td>AR</td>\n",
              "      <td>1140.0</td>\n",
              "      <td>112</td>\n",
              "      <td>192</td>\n",
              "      <td>3892</td>\n",
              "      <td>39990.0</td>\n",
              "    </tr>\n",
              "  </tbody>\n",
              "</table>\n",
              "</div>"
            ],
            "text/plain": [
              "        day country  recovery  new_cases  deaths  cases  total_negative_tests\n",
              "0    3/3/20      AR       0.0          1       0      1                   NaN\n",
              "1    3/4/20      AR       0.0          0       0      1                   NaN\n",
              "2    3/5/20      AR       0.0          1       0      2                   NaN\n",
              "3    3/6/20      AR       0.0          6       0      8                   NaN\n",
              "4    3/7/20      AR       0.0          1       1      9                   NaN\n",
              "5    3/8/20      AR       0.0          3       0     12                   NaN\n",
              "6    3/9/20      AR       0.0          5       0     17                   NaN\n",
              "7   3/10/20      AR       0.0          2       0     19                   NaN\n",
              "8   3/11/20      AR       0.0          2       0     21                   NaN\n",
              "9   3/12/20      AR       1.0         10       0     31                   NaN\n",
              "10  3/13/20      AR       4.0          3       2     34                   NaN\n",
              "11  3/14/20      AR       5.0         11       0     45                   NaN\n",
              "12  3/15/20      AR       0.0         11       0     56                   NaN\n",
              "13  3/16/20      AR      12.0          9       0     65                 464.0\n",
              "14  3/17/20      AR       0.0         13       0     78                 496.0\n",
              "15  3/18/20      AR      16.0         19       3     97                 562.0\n",
              "16  3/19/20      AR      22.0         31       0    128                 705.0\n",
              "17  3/20/20      AR      27.0         30       0    158                 872.0\n",
              "18  3/21/20      AR      28.0         67       4    225                1028.0\n",
              "19  3/22/20      AR      39.0         41       0    266                1271.0\n",
              "20  3/23/20      AR      51.0         36       0    301                1453.0\n",
              "21  3/24/20      AR      52.0         86       6    387                1453.0\n",
              "22  3/25/20      AR      63.0        117       8    502                1946.0\n",
              "23  3/26/20      AR      72.0         87      12    589                2258.0\n",
              "24  3/27/20      AR      76.0        101      17    690                2817.0\n",
              "25  3/28/20      AR      80.0         55      19    745                   NaN\n",
              "26  3/29/20      AR      91.0         75      20    820                3215.0\n",
              "27  3/30/20      AR       NaN        146      24    966                3877.0\n",
              "28  3/31/20      AR     248.0         88      27   1054                4597.0\n",
              "29  4/01/20      AR     256.0         79      31   1133                5144.0\n",
              "30  4/02/20      AR     266.0        132      36   1265                6120.0\n",
              "31  4/03/20      AR     279.0         88      42   1353                7135.0\n",
              "32  4/04/20      AR     280.0         98      44   1451                7888.0\n",
              "33  4/05/20      AR     325.0        103      48   1554                   NaN\n",
              "34  4/06/20      AR     338.0         74      54   1628                9165.0\n",
              "35  4/07/20      AR     358.0         87      60   1715               10438.0\n",
              "36  4/08/20      AR     365.0         80      69   1795               11835.0\n",
              "37  4/09/20      AR     375.0         99      79   1894               12983.0\n",
              "38  4/10/20      AR     440.0         81      83   1975               14150.0\n",
              "39  4/11/20      AR     468.0        167      90   2142               15480.0\n",
              "40  4/12/20      AR     515.0         66      95   2208               16416.0\n",
              "41  4/13/20      AR     559.0         69     101   2277               17724.0\n",
              "42  4/14/20      AR     596.0        166     109   2443               18901.0\n",
              "43  4/15/20      AR     631.0        128     115   2571               20645.0\n",
              "44  4/16/20      AR     666.0         98     122   2669               22310.0\n",
              "45  4/17/20      AR     685.0         88     129   2758               23796.0\n",
              "46  4/18/20      AR     709.0         81     132   2839               25259.0\n",
              "47  4/19/20      AR     737.0        102     136   2941               26658.0\n",
              "48  4/20/20      AR     840.0         90     145   3031               28298.0\n",
              "49  4/21/20      AR     872.0        112     152   3144               30362.0\n",
              "50  4/22/20      AR     919.0        144     159   3288               32414.0\n",
              "51  4/23/20      AR     976.0        147     167   3435               34431.0\n",
              "52  4/24/20      AR    1030.0        172     179   3607               36610.0\n",
              "53  4/25/20      AR    1107.0        173     187   3780               38215.0\n",
              "54  4/26/20      AR    1140.0        112     192   3892               39990.0"
            ]
          },
          "metadata": {
            "tags": []
          },
          "execution_count": 15
        }
      ]
    },
    {
      "cell_type": "code",
      "metadata": {
        "colab_type": "code",
        "outputId": "adabe795-9d80-45a5-b4b9-c1406dde69f4",
        "id": "VB8OssrB0cCk",
        "colab": {
          "base_uri": "https://localhost:8080/",
          "height": 212
        }
      },
      "source": [
        "# select 2 columns, rename, and parse the date\n",
        "#df = df.rename(columns={\"data\": 'day', \"totale_casi\": 'cases'})\n",
        "df = df.loc[:, ['day', 'deaths','cases']]\n",
        "first_day = datetime(2020, 1, 2) - timedelta(days=1)\n",
        "print(first_day)\n",
        "df['day'] = df['day'].map(lambda x: (datetime.strptime(x, '%m/%d/%y') - first_day).days)\n",
        "\n",
        "df.tail()"
      ],
      "execution_count": 16,
      "outputs": [
        {
          "output_type": "stream",
          "text": [
            "2020-01-01 00:00:00\n"
          ],
          "name": "stdout"
        },
        {
          "output_type": "execute_result",
          "data": {
            "text/html": [
              "<div>\n",
              "<style scoped>\n",
              "    .dataframe tbody tr th:only-of-type {\n",
              "        vertical-align: middle;\n",
              "    }\n",
              "\n",
              "    .dataframe tbody tr th {\n",
              "        vertical-align: top;\n",
              "    }\n",
              "\n",
              "    .dataframe thead th {\n",
              "        text-align: right;\n",
              "    }\n",
              "</style>\n",
              "<table border=\"1\" class=\"dataframe\">\n",
              "  <thead>\n",
              "    <tr style=\"text-align: right;\">\n",
              "      <th></th>\n",
              "      <th>day</th>\n",
              "      <th>deaths</th>\n",
              "      <th>cases</th>\n",
              "    </tr>\n",
              "  </thead>\n",
              "  <tbody>\n",
              "    <tr>\n",
              "      <th>50</th>\n",
              "      <td>112</td>\n",
              "      <td>159</td>\n",
              "      <td>3288</td>\n",
              "    </tr>\n",
              "    <tr>\n",
              "      <th>51</th>\n",
              "      <td>113</td>\n",
              "      <td>167</td>\n",
              "      <td>3435</td>\n",
              "    </tr>\n",
              "    <tr>\n",
              "      <th>52</th>\n",
              "      <td>114</td>\n",
              "      <td>179</td>\n",
              "      <td>3607</td>\n",
              "    </tr>\n",
              "    <tr>\n",
              "      <th>53</th>\n",
              "      <td>115</td>\n",
              "      <td>187</td>\n",
              "      <td>3780</td>\n",
              "    </tr>\n",
              "    <tr>\n",
              "      <th>54</th>\n",
              "      <td>116</td>\n",
              "      <td>192</td>\n",
              "      <td>3892</td>\n",
              "    </tr>\n",
              "  </tbody>\n",
              "</table>\n",
              "</div>"
            ],
            "text/plain": [
              "    day  deaths  cases\n",
              "50  112     159   3288\n",
              "51  113     167   3435\n",
              "52  114     179   3607\n",
              "53  115     187   3780\n",
              "54  116     192   3892"
            ]
          },
          "metadata": {
            "tags": []
          },
          "execution_count": 16
        }
      ]
    },
    {
      "cell_type": "code",
      "metadata": {
        "id": "V0_BEklDjHmm",
        "colab_type": "code",
        "outputId": "41c4592f-5334-4b65-8345-4186ce3ffa84",
        "colab": {
          "base_uri": "https://localhost:8080/",
          "height": 271
        }
      },
      "source": [
        "# the following block is just for displaying the input data, with some unused augmentation\n",
        "dfG = df.copy()\n",
        "dfG['cases_diff'] = dfG.diff()['cases']\n",
        "dfG['cases_growth_%'] = round(dfG['cases_diff'] / (dfG['cases'] - dfG['cases_diff']) * 100, 1)\n",
        "dfG['date'] = [first_day + timedelta(days = day) for day in dfG['day']]\n",
        "print(\"...data for the last 7 days\")\n",
        "dfG[-7:]"
      ],
      "execution_count": 17,
      "outputs": [
        {
          "output_type": "stream",
          "text": [
            "...data for the last 7 days\n"
          ],
          "name": "stdout"
        },
        {
          "output_type": "execute_result",
          "data": {
            "text/html": [
              "<div>\n",
              "<style scoped>\n",
              "    .dataframe tbody tr th:only-of-type {\n",
              "        vertical-align: middle;\n",
              "    }\n",
              "\n",
              "    .dataframe tbody tr th {\n",
              "        vertical-align: top;\n",
              "    }\n",
              "\n",
              "    .dataframe thead th {\n",
              "        text-align: right;\n",
              "    }\n",
              "</style>\n",
              "<table border=\"1\" class=\"dataframe\">\n",
              "  <thead>\n",
              "    <tr style=\"text-align: right;\">\n",
              "      <th></th>\n",
              "      <th>day</th>\n",
              "      <th>deaths</th>\n",
              "      <th>cases</th>\n",
              "      <th>cases_diff</th>\n",
              "      <th>cases_growth_%</th>\n",
              "      <th>date</th>\n",
              "    </tr>\n",
              "  </thead>\n",
              "  <tbody>\n",
              "    <tr>\n",
              "      <th>48</th>\n",
              "      <td>110</td>\n",
              "      <td>145</td>\n",
              "      <td>3031</td>\n",
              "      <td>90.0</td>\n",
              "      <td>3.1</td>\n",
              "      <td>2020-04-20</td>\n",
              "    </tr>\n",
              "    <tr>\n",
              "      <th>49</th>\n",
              "      <td>111</td>\n",
              "      <td>152</td>\n",
              "      <td>3144</td>\n",
              "      <td>113.0</td>\n",
              "      <td>3.7</td>\n",
              "      <td>2020-04-21</td>\n",
              "    </tr>\n",
              "    <tr>\n",
              "      <th>50</th>\n",
              "      <td>112</td>\n",
              "      <td>159</td>\n",
              "      <td>3288</td>\n",
              "      <td>144.0</td>\n",
              "      <td>4.6</td>\n",
              "      <td>2020-04-22</td>\n",
              "    </tr>\n",
              "    <tr>\n",
              "      <th>51</th>\n",
              "      <td>113</td>\n",
              "      <td>167</td>\n",
              "      <td>3435</td>\n",
              "      <td>147.0</td>\n",
              "      <td>4.5</td>\n",
              "      <td>2020-04-23</td>\n",
              "    </tr>\n",
              "    <tr>\n",
              "      <th>52</th>\n",
              "      <td>114</td>\n",
              "      <td>179</td>\n",
              "      <td>3607</td>\n",
              "      <td>172.0</td>\n",
              "      <td>5.0</td>\n",
              "      <td>2020-04-24</td>\n",
              "    </tr>\n",
              "    <tr>\n",
              "      <th>53</th>\n",
              "      <td>115</td>\n",
              "      <td>187</td>\n",
              "      <td>3780</td>\n",
              "      <td>173.0</td>\n",
              "      <td>4.8</td>\n",
              "      <td>2020-04-25</td>\n",
              "    </tr>\n",
              "    <tr>\n",
              "      <th>54</th>\n",
              "      <td>116</td>\n",
              "      <td>192</td>\n",
              "      <td>3892</td>\n",
              "      <td>112.0</td>\n",
              "      <td>3.0</td>\n",
              "      <td>2020-04-26</td>\n",
              "    </tr>\n",
              "  </tbody>\n",
              "</table>\n",
              "</div>"
            ],
            "text/plain": [
              "    day  deaths  cases  cases_diff  cases_growth_%       date\n",
              "48  110     145   3031        90.0             3.1 2020-04-20\n",
              "49  111     152   3144       113.0             3.7 2020-04-21\n",
              "50  112     159   3288       144.0             4.6 2020-04-22\n",
              "51  113     167   3435       147.0             4.5 2020-04-23\n",
              "52  114     179   3607       172.0             5.0 2020-04-24\n",
              "53  115     187   3780       173.0             4.8 2020-04-25\n",
              "54  116     192   3892       112.0             3.0 2020-04-26"
            ]
          },
          "metadata": {
            "tags": []
          },
          "execution_count": 17
        }
      ]
    },
    {
      "cell_type": "markdown",
      "metadata": {
        "id": "mdcnxxqZiI_z",
        "colab_type": "text"
      },
      "source": [
        "Growth in the last two weeks - **chart copied from [This Tweet](https://twitter.com/Francolino_Bear/status/1237227757509021697) by [Francesco Favaro](https://twitter.com/Francolino_Bear)** on 3/10/2020:"
      ]
    },
    {
      "cell_type": "code",
      "metadata": {
        "id": "2p9HRl83iKLP",
        "colab_type": "code",
        "outputId": "af80fe2c-8db2-4d6a-df2e-95025f004d74",
        "colab": {
          "base_uri": "https://localhost:8080/",
          "height": 307
        }
      },
      "source": [
        "dfg2 = dfG[-14:]\n",
        "x = dfg2['day'].tolist()\n",
        "y = dfg2['cases_growth_%'].tolist()\n",
        "\n",
        "import matplotlib.pyplot as plt\n",
        "plt.rc('font', size=14)\n",
        "plt.figure(figsize=(8, 4))\n",
        "plt_axes = plt.gca()\n",
        "plt_axes.grid(axis='y', color=(0.4, 0.4, 0.4), alpha=0.2)\n",
        "plt.stackplot(x, y, color=(0.92, 0.26, 0.21, 0.3), linewidth=0)\n",
        "plt.plot(x, y, color=(0.92, 0.26, 0.21), linewidth=2)\n",
        "plt.scatter(x, y, color=(0.92, 0.26, 0.21), label=\"Argentina\", linewidth=3)\n",
        "plt.xlim(int(min(x)), int(max(x) + 5))\n",
        "plt.ylim(0, 60)\n",
        "plt.title(\"Daily increase in the infected population\")\n",
        "plt.xlabel(\"Day of the year, 2020\")\n",
        "plt.ylabel(\"Daily % increase\")\n",
        "plt.legend()\n",
        "plt.show()"
      ],
      "execution_count": 18,
      "outputs": [
        {
          "output_type": "display_data",
          "data": {
            "image/png": "[encoded data removed]",
            "text/plain": [
              "<Figure size 576x288 with 1 Axes>"
            ]
          },
          "metadata": {
            "tags": [],
            "needs_background": "light"
          }
        }
      ]
    },
    {
      "cell_type": "markdown",
      "metadata": {
        "id": "YTy9A9pi36kq",
        "colab_type": "text"
      },
      "source": [
        "We can now analyze the two models I’ll take into the exam, which are the logistic function and the exponential function.\n",
        "Each model has three parameters, that will be estimated by a curve fitting calculation on the historical data.\n",
        "The logistic model\n",
        "The logistic model has been widely used to describe the growth of a population. An infection can be described as the growth of the population of a pathogen agent, so a logistic model seems reasonable.\n",
        "This formula is very known among data scientists because it’s used in the logistic regression classifier and as an activation function of neural networks.\n",
        "The most generic expression of a logistic function is:\n",
        "\n",
        "![texto alternativo](https://miro.medium.com/max/310/1*bnVnrdWrWxvZfqJ_1bgrUQ.png)\n",
        "\n",
        "In this formula, we have the variable x that is the time and three parameters: a,b,c.\n",
        "* a refers to the infection speed\n",
        "* b is the day with the maximum infections occurred\n",
        "* c is the total number of recorded infected people at the infection’s end\n",
        "\n",
        "At high time values, the number of infected people gets closer and closer to c and that’s the point at which we can say that the infection has ended. This function has also an inflection point at b, that is the point at which the first derivative starts to decrease (i.e. the peak after which the infection starts to become less aggressive and decreases).\n",
        "Let’s define it in python."
      ]
    },
    {
      "cell_type": "code",
      "metadata": {
        "id": "tAiU7bJp2lu2",
        "colab_type": "code",
        "colab": {}
      },
      "source": [
        "def logistic_model(x,a,b,c):\n",
        "    return c/(1+np.exp(-(x-b)/a))"
      ],
      "execution_count": 0,
      "outputs": []
    },
    {
      "cell_type": "markdown",
      "metadata": {
        "id": "mrEwiW914gT0",
        "colab_type": "text"
      },
      "source": [
        "We can use the curve_fit function of scipy library to estimate the parameter values and errors starting from the original data.\n",
        "\n",
        "Data for Initial Guess\n",
        "\n",
        "[Coronavirus: un informe reservado del Ministerio de Salud proyectaba entre 250.000 y 2.200.000 infectados](https://www.infobae.com/politica/2020/03/22/coronavirus-un-informe-reservado-del-ministerio-de-salud-proyectaba-entre-250000-y-2200000-infectados/)\n",
        "\n",
        "[El futuro de la pandemia\n",
        "La curva del coronavirus en la Argentina: confirman el pico para fines de abril y explican cómo se comportaría el virus](https://www.clarin.com/sociedad/curva-coronavirus-argentina-confirman-pico-fines-abril-explican-comportaria-virus_0_Fm3AUZAUo.html)\n"
      ]
    },
    {
      "cell_type": "code",
      "metadata": {
        "id": "Bh6aJeHm3pgt",
        "colab_type": "code",
        "colab": {}
      },
      "source": [
        "# fit the data to the model (find the model variables that best approximate)\n",
        "def predict_logistic_maximum(df, column = 'cases'):\n",
        "    samples = df.shape[0]\n",
        "    x_days = df['day'].tolist()\n",
        "    y_cases = df[column].tolist()\n",
        "    speed_guess = 2.5\n",
        "    peak_guess = 120\n",
        "    amplitude_guess = 250000\n",
        "    if (column == 'deaths'):\n",
        "      amplitude_guess = (amplitude_guess * speed_guess/100) \n",
        "    initial_guess =speed_guess, peak_guess, amplitude_guess\n",
        "\n",
        "    fit = curve_fit(logistic_model, x_days, y_cases,p0=initial_guess,  maxfev=999999)\n",
        "\n",
        "    # parse the result of the fit\n",
        "    speed, x_peak, y_max = fit[0]\n",
        "    speed_error, x_peak_error, y_max_error = [np.sqrt(fit[1][i][i]) for i in [0, 1, 2]]\n",
        "\n",
        "    # find the \"end date\", as the x (day of year) where the function reaches 99.99%\n",
        "    end = int(fsolve(lambda x: logistic_model(x, speed, x_peak, y_max) - y_max * 0.9999, x_peak))\n",
        "\n",
        "    return x_days, y_cases, speed, x_peak, y_max, x_peak_error, y_max_error, end, samples"
      ],
      "execution_count": 0,
      "outputs": []
    },
    {
      "cell_type": "code",
      "metadata": {
        "id": "D_rgH98j_ANA",
        "colab_type": "code",
        "outputId": "72d2df29-b20f-4401-a0de-2803094e1680",
        "colab": {
          "base_uri": "https://localhost:8080/",
          "height": 101
        }
      },
      "source": [
        "# print results\n",
        "def print_prediction(df, label, column = 'cases', model= 'logistic'):\n",
        "    if model == 'logistic':\n",
        "      x, y, speed, x_peak, y_max, x_peak_error, y_max_error, end, samples = predict_logistic_maximum(df, column)\n",
        "    else:\n",
        "      x, y, speed, x_peak, y_max, x_peak_error, y_max_error, end, samples = predict_exponential_maximum(df, column)\n",
        "    print(label + \"'s prediction: \" +\n",
        "          \"maximum \" + column + \" : \" + str(np.int64(round(y_max))) +\n",
        "          \" (± \" + str(np.int64(round(y_max_error))) + \")\" +\n",
        "          \", peak at calendar day: \" + str(datetime(2020, 1, 2) + timedelta(days=int(round(x_peak)))) +\n",
        "          \" (± \" + str(round(x_peak_error, 2)) + \")\" +\n",
        "          \", ending on day: \" + str(datetime(2020, 1, 2) + timedelta(days=end)))\n",
        "    return y_max\n",
        "\n",
        "\n",
        "print_prediction(df[:-2], \"2 days ago\")\n",
        "print_prediction(df[:-1], \"yesterday\")\n",
        "pred = print_prediction(df, \"today\")\n",
        "print()\n",
        "html_print(\"As of today, the total infection should stabilize at <b>\" + str(int(round(pred))) + \" </b> (Logistic Model)\")"
      ],
      "execution_count": 20,
      "outputs": [
        {
          "output_type": "stream",
          "text": [
            "2 days ago's prediction: maximum cases : 3878 (± 119), peak at calendar day: 2020-04-10 00:00:00 (± 0.64), ending on day: 2020-06-22 00:00:00\n",
            "yesterday's prediction: maximum cases : 4088 (± 137), peak at calendar day: 2020-04-11 00:00:00 (± 0.72), ending on day: 2020-06-26 00:00:00\n",
            "today's prediction: maximum cases : 4286 (± 151), peak at calendar day: 2020-04-12 00:00:00 (± 0.77), ending on day: 2020-06-30 00:00:00\n",
            "\n"
          ],
          "name": "stdout"
        },
        {
          "output_type": "execute_result",
          "data": {
            "text/html": [
              "As of today, the total infection should stabilize at <b>4286 </b> (Logistic Model)"
            ],
            "text/plain": [
              "<IPython.core.display.HTML object>"
            ]
          },
          "metadata": {
            "tags": []
          },
          "execution_count": 20
        }
      ]
    },
    {
      "cell_type": "markdown",
      "metadata": {
        "id": "52fJHj9K_eop",
        "colab_type": "text"
      },
      "source": [
        "Plot 1. data & projections, for today and the former 2 days\n",
        "\n"
      ]
    },
    {
      "cell_type": "code",
      "metadata": {
        "id": "W5Koc16j_e2L",
        "colab_type": "code",
        "outputId": "d007a1af-02d3-451a-c1fd-7a56ac3f7b79",
        "colab": {
          "base_uri": "https://localhost:8080/",
          "height": 525
        }
      },
      "source": [
        "plt.rc('font', size=14)\n",
        "\n",
        "\n",
        "def add_real_data(df, label,column = 'cases', color=None):\n",
        "    x = df['day'].tolist()\n",
        "    y = df[column].tolist()\n",
        "    plt.scatter(x, y, label=\"Data (\" + label + \")\", c=color)\n",
        "\n",
        "\n",
        "def add_logistic_curve(df, label,column = 'cases', **kwargs):\n",
        "    x, _, speed, x_peak, y_max, _, _, end, _ = predict_logistic_maximum(df, column)\n",
        "    x_range = list(range(min(x), end))\n",
        "    plt.plot(x_range,\n",
        "             [logistic_model(i, speed, x_peak, y_max) for i in x_range],\n",
        "             label=\"Logistic model (\" + label + \"): \" + str(int(round(y_max))),\n",
        "             **kwargs)\n",
        "    return y_max\n",
        "\n",
        "\n",
        "def label_and_show_plot(plt, title, y_max=None):\n",
        "    plt.title(title)\n",
        "    plt.xlabel(\"Days since 1 January 2020\")\n",
        "    plt.ylabel(\"Total number of people\")\n",
        "    if (y_max):\n",
        "        plt.ylim(0, y_max * 1.1)\n",
        "    plt.legend()\n",
        "    plt.show()\n",
        "\n",
        "\n",
        "# Plot\n",
        "plt.figure(figsize=(12, 8))\n",
        "add_real_data(df[:-2], \"2 days ago\")\n",
        "add_real_data(df[-2:-1], \"yesterday\")\n",
        "add_real_data(df[-1:], \"today\")\n",
        "add_logistic_curve(df[:-2], \"2 days ago\", dashes=[8, 8])\n",
        "add_logistic_curve(df[:-1], \"yesterday\", dashes=[4, 4])\n",
        "y_max = add_logistic_curve(df, \"today\")\n",
        "label_and_show_plot(plt, \"Best logistic fit with the freshest data\", y_max)"
      ],
      "execution_count": 22,
      "outputs": [
        {
          "output_type": "display_data",
          "data": {
            "image/png": "[encoded data removed]",
            "text/plain": [
              "<Figure size 864x576 with 1 Axes>"
            ]
          },
          "metadata": {
            "tags": [],
            "needs_background": "light"
          }
        }
      ]
    },
    {
      "cell_type": "markdown",
      "metadata": {
        "id": "iZ6V6DFNjGno",
        "colab_type": "text"
      },
      "source": [
        "### Plot 2. What changed since 2 days ago that steered the count up.\n",
        "The growth \"slowdown\" stopped, staying for many days as a perfect exponential (1.25^x), lifting the amplitude of the Logistic fit."
      ]
    },
    {
      "cell_type": "code",
      "metadata": {
        "id": "YTHTfXU3jPWB",
        "colab_type": "code",
        "outputId": "d4fb8c5c-4ac0-4e36-a282-5287f996fd71",
        "colab": {
          "base_uri": "https://localhost:8080/",
          "height": 416
        }
      },
      "source": [
        "plt.figure(figsize=(12, 6))\n",
        "add_real_data(df[:-2], \"2 days ago\")\n",
        "add_real_data(df[-2:], \"today\")\n",
        "y_max = add_logistic_curve(df[:-2], \"2 days ago\", linewidth=1)\n",
        "add_logistic_curve(df, \"today\", linewidth=3)\n",
        "label_and_show_plot(plt, \"How does the chart change with new information (the case 2 days ago)\", y_max)"
      ],
      "execution_count": 23,
      "outputs": [
        {
          "output_type": "display_data",
          "data": {
            "image/png": "[encoded data removed]",
            "text/plain": [
              "<Figure size 864x432 with 1 Axes>"
            ]
          },
          "metadata": {
            "tags": [],
            "needs_background": "light"
          }
        }
      ]
    },
    {
      "cell_type": "markdown",
      "metadata": {
        "id": "idrwrWISjqx2",
        "colab_type": "text"
      },
      "source": [
        "### Experiment 1: discarding noisy initial samples\n",
        "Try discarding points at the beginning to see how it affects the prediction.\n"
      ]
    },
    {
      "cell_type": "code",
      "metadata": {
        "id": "KtgUn08NjrNO",
        "colab_type": "code",
        "outputId": "b163bafc-0377-4008-956b-9da3b22b62b3",
        "colab": {
          "base_uri": "https://localhost:8080/",
          "height": 486
        }
      },
      "source": [
        "#@title Try it yourself { run: \"auto\", vertical-output: true, form-width: \"620px\", display-mode: \"form\" }\n",
        "points_to_discard = 15 #@param {type:\"slider\", min:0, max:15, step:1}\n",
        "\n",
        "# Plot: discard initial data points\n",
        "plt.figure(figsize=(8, 6))\n",
        "pts = points_to_discard\n",
        "add_real_data(df[pts:], \"today\")\n",
        "add_real_data(df[:pts], str(pts) + \" discarded samples\")\n",
        "y_max = add_logistic_curve(df[pts:], \"discarding samples\")\n",
        "label_and_show_plot(plt, \"Discarding the initial (\" + str(pts) + \") data points\", y_max)\n",
        "pred = print_prediction(df[pts:], \"Today Discarding the initial (\" + str(pts) + \") data points\")\n",
        "print()\n",
        "html_print(\"As of today, the total infection should stabilize at <b>\" + str(int(round(pred))) + \"</b>\")\n"
      ],
      "execution_count": 24,
      "outputs": [
        {
          "output_type": "display_data",
          "data": {
            "image/png": "[encoded data removed]",
            "text/plain": [
              "<Figure size 576x432 with 1 Axes>"
            ]
          },
          "metadata": {
            "tags": [],
            "needs_background": "light"
          }
        },
        {
          "output_type": "stream",
          "text": [
            "Today Discarding the initial (15) data points's prediction: maximum cases : 4510 (± 203), peak at calendar day: 2020-04-13 00:00:00 (± 1.01), ending on day: 2020-07-07 00:00:00\n",
            "\n"
          ],
          "name": "stdout"
        },
        {
          "output_type": "execute_result",
          "data": {
            "text/html": [
              "As of today, the total infection should stabilize at <b>4510</b>"
            ],
            "text/plain": [
              "<IPython.core.display.HTML object>"
            ]
          },
          "metadata": {
            "tags": []
          },
          "execution_count": 24
        }
      ]
    },
    {
      "cell_type": "markdown",
      "metadata": {
        "id": "idUiqoi_ZrqG",
        "colab_type": "text"
      },
      "source": [
        "# Exponential model\n",
        "While the logistic model describes ain infection growth that is going to stop in the future, The exponential model describes an unstoppable infection growth. For example, if a patient infects 2 patients per day, after 1 day we’ll have 2 infections, 4 after 2 days, 8 after 3 and so on.\n",
        "\n",
        "The most generic exponential function is:\n",
        "\n",
        "![texto alternativo](https://miro.medium.com/max/259/1*WlL6AmIK1wX8C78qjsTEHg.png)\n",
        "\n",
        "The variable x is the time and we still have the parameters a, b, c. The meaning, however, is different from the logistic function parameters’.\n",
        "Let’s define the function in Python and let’s perform the same curve fitting procedure used for logistic growth."
      ]
    },
    {
      "cell_type": "code",
      "metadata": {
        "id": "SqRp7fP0aCAg",
        "colab_type": "code",
        "colab": {}
      },
      "source": [
        "def exponential_model(x,a,b,c):\n",
        "    return a*np.exp(b*(x-c))"
      ],
      "execution_count": 0,
      "outputs": []
    },
    {
      "cell_type": "code",
      "metadata": {
        "id": "kAfAUr-caVVo",
        "colab_type": "code",
        "colab": {}
      },
      "source": [
        "# fit the data to the model (find the model variables that best approximate)\n",
        "def predict_exponential_maximum(df, column = 'cases'):\n",
        "    samples = df.shape[0]\n",
        "    x_days = df['day'].tolist()\n",
        "    y_cases = df[column].tolist()\n",
        "    speed_guess = 2.5\n",
        "    peak_guess = 120\n",
        "    amplitude_guess = 250000\n",
        "    \n",
        "    initial_guess =speed_guess, peak_guess, amplitude_guess\n",
        "\n",
        "    fit = curve_fit(exponential_model, x_days, y_cases,p0=initial_guess)\n",
        "\n",
        "    # parse the result of the fit\n",
        "    speed, x_peak, y_max = fit[0]\n",
        "    speed_error, x_peak_error, y_max_error = [np.sqrt(fit[1][i][i]) for i in [0, 1, 2]]\n",
        "\n",
        "    # find the \"end date\", as the x (day of year) where the function reaches 99.99%\n",
        "    end = int(fsolve(lambda x: exponential_model(x, speed, x_peak, y_max) - y_max * 0.9999, x_peak))\n",
        "\n",
        "    return x_days, y_cases, speed, x_peak, y_max, x_peak_error, y_max_error, end, samples"
      ],
      "execution_count": 0,
      "outputs": []
    },
    {
      "cell_type": "code",
      "metadata": {
        "id": "JFEUaUhUaiAl",
        "colab_type": "code",
        "outputId": "c4d520e4-0df5-400b-aabc-42a448bf434b",
        "colab": {
          "base_uri": "https://localhost:8080/",
          "height": 171
        }
      },
      "source": [
        "pred = print_prediction(df, \"today\", model='exponential')\n",
        "print()\n",
        "html_print(\"As of today, the total infection should stabilize at <b>\" + str(int(round(pred))) + \" </b> (Exponential Model)\")"
      ],
      "execution_count": 0,
      "outputs": [
        {
          "output_type": "stream",
          "text": [
            "today's prediction: maximum cases : 250000 (± -9223372036854775808), peak at calendar day: 2020-05-01 00:00:00 (± inf), ending on day: 2020-05-01 00:00:00\n",
            "\n"
          ],
          "name": "stdout"
        },
        {
          "output_type": "stream",
          "text": [
            "/usr/local/lib/python3.6/dist-packages/scipy/optimize/minpack.py:808: OptimizeWarning: Covariance of the parameters could not be estimated\n",
            "  category=OptimizeWarning)\n",
            "/usr/local/lib/python3.6/dist-packages/scipy/optimize/minpack.py:162: RuntimeWarning: The iteration is not making good progress, as measured by the \n",
            "  improvement from the last ten iterations.\n",
            "  warnings.warn(msg, RuntimeWarning)\n"
          ],
          "name": "stderr"
        },
        {
          "output_type": "execute_result",
          "data": {
            "text/html": [
              "As of today, the total infection should stabilize at <b>250000 </b> (Exponential Model)"
            ],
            "text/plain": [
              "<IPython.core.display.HTML object>"
            ]
          },
          "metadata": {
            "tags": []
          },
          "execution_count": 13
        }
      ]
    },
    {
      "cell_type": "markdown",
      "metadata": {
        "id": "QojWWIUSTN2d",
        "colab_type": "text"
      },
      "source": [
        "# Deaths\n",
        "We cannot trust the number of confirmed cases without knowing the number of tests performed per day. \n",
        "\n",
        "\n",
        "Taking the number of deaths we can do another type of analysis."
      ]
    },
    {
      "cell_type": "code",
      "metadata": {
        "id": "N-ZpgzSpTQVh",
        "colab_type": "code",
        "outputId": "1a6c4308-73b5-43b7-8b31-caa250c03b28",
        "colab": {
          "base_uri": "https://localhost:8080/",
          "height": 101
        }
      },
      "source": [
        "print_prediction(df[:-2], \"2 days ago\", 'deaths')\n",
        "print_prediction(df[:-1], \"yesterday\", 'deaths')\n",
        "pred = print_prediction(df, \"today\", 'deaths')\n",
        "print()\n",
        "html_print(\"As of today, the total deaths should stabilize at <b>\" + str(int(round(pred))) + \"</b>\")"
      ],
      "execution_count": 25,
      "outputs": [
        {
          "output_type": "stream",
          "text": [
            "2 days ago's prediction: maximum deaths : 198 (± 6), peak at calendar day: 2020-04-14 00:00:00 (± 0.48), ending on day: 2020-06-14 00:00:00\n",
            "yesterday's prediction: maximum deaths : 210 (± 7), peak at calendar day: 2020-04-15 00:00:00 (± 0.54), ending on day: 2020-06-17 00:00:00\n",
            "today's prediction: maximum deaths : 219 (± 7), peak at calendar day: 2020-04-15 00:00:00 (± 0.56), ending on day: 2020-06-20 00:00:00\n",
            "\n"
          ],
          "name": "stdout"
        },
        {
          "output_type": "execute_result",
          "data": {
            "text/html": [
              "As of today, the total deaths should stabilize at <b>219</b>"
            ],
            "text/plain": [
              "<IPython.core.display.HTML object>"
            ]
          },
          "metadata": {
            "tags": []
          },
          "execution_count": 25
        }
      ]
    },
    {
      "cell_type": "code",
      "metadata": {
        "id": "2QzmKcRkYLVZ",
        "colab_type": "code",
        "outputId": "f83918b1-797e-43ff-f00e-a1879f5d9721",
        "colab": {
          "base_uri": "https://localhost:8080/",
          "height": 525
        }
      },
      "source": [
        "# Plot\n",
        "plt.figure(figsize=(12, 8))\n",
        "add_real_data(df[:-2], \"2 days ago\", column = 'deaths')\n",
        "add_real_data(df[-2:-1], \"yesterday\", column = 'deaths')\n",
        "add_real_data(df[-1:], \"today\", column = 'deaths')\n",
        "add_logistic_curve(df[:-2], \"2 days ago\",column='deaths', dashes=[8, 8])\n",
        "add_logistic_curve(df[:-1], \"yesterday\",column='deaths', dashes=[4, 4])\n",
        "y_max = add_logistic_curve(df, \"today\", column='deaths')\n",
        "label_and_show_plot(plt, \"Best logistic fit with the freshest data\", y_max)"
      ],
      "execution_count": 26,
      "outputs": [
        {
          "output_type": "display_data",
          "data": {
            "image/png": "[encoded data removed]",
            "text/plain": [
              "<Figure size 864x576 with 1 Axes>"
            ]
          },
          "metadata": {
            "tags": [],
            "needs_background": "light"
          }
        }
      ]
    },
    {
      "cell_type": "markdown",
      "metadata": {
        "id": "dkBli35Fmz0G",
        "colab_type": "text"
      },
      "source": [
        "# Conclusions\n",
        "Come back to see the result on live data. We'll update every day. The noise in the input makes it hard to predict which part of the logistic curve are we in. In the next few days the predicitons will start converging.\n"
      ]
    }
  ]
}